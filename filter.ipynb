{
 "cells": [
  {
   "cell_type": "code",
   "execution_count": 1,
   "metadata": {},
   "outputs": [],
   "source": [
    "import matplotlib.pyplot as plt\n",
    "import numpy as np\n",
    "%matplotlib widget"
   ]
  },
  {
   "cell_type": "markdown",
   "metadata": {},
   "source": [
    "## Parameters"
   ]
  },
  {
   "cell_type": "code",
   "execution_count": 10,
   "metadata": {},
   "outputs": [],
   "source": [
    "dt = 0.01\n",
    "r = 10.0\n",
    "g = 9.81\n",
    "H = np.eye(2)      # observation matrix\n",
    "B = np.eye(2)      # control matrix\n",
    "Q = np.eye(2)*0.00001 # covariance of process noise\n",
    "R = np.eye(2)*0.1 # covariance of measurement noise"
   ]
  },
  {
   "cell_type": "code",
   "execution_count": 8,
   "metadata": {},
   "outputs": [],
   "source": [
    "def compute_k_prime(H,P,R):\n",
    "    k = P @ H.T @ np.linalg.inv(H @ P @ H.T + R)\n",
    "    return k\n",
    "    \n",
    "def build_A():\n",
    "    A = np.array([(1, dt), (-g*dt/r, .999)])\n",
    "    \n",
    "    return A\n",
    "\n",
    "def generate_noise(covariance):\n",
    "    sample = np.zeros((covariance.shape[0],1))\n",
    "    \n",
    "    for r in range(covariance.shape[0]):\n",
    "        sample[r,0] = np.random.normal(0, np.sqrt(covariance[r,r]))\n",
    "    \n",
    "    return sample\n",
    "            \n",
    "\n",
    "def predict(x,A,u,B,P):\n",
    "    x_new = A @ x + B @ u\n",
    "    P_new = A @ P @ A.T + Q\n",
    "    return x_new, P_new\n",
    "\n",
    "def update(x,z,H,P,R):\n",
    "    K = compute_k_prime(H, P, R)\n",
    "    x_new = x + K @ (z - H @ x)\n",
    "    P_new = P - K @ H @ P\n",
    "    return x_new, P_new"
   ]
  },
  {
   "cell_type": "markdown",
   "metadata": {},
   "source": [
    "## Create Simulaltion Data"
   ]
  },
  {
   "cell_type": "code",
   "execution_count": 4,
   "metadata": {
    "scrolled": true
   },
   "outputs": [
    {
     "data": {
      "application/vnd.jupyter.widget-view+json": {
       "model_id": "73092e44931e48d2a0898828e042f77a",
       "version_major": 2,
       "version_minor": 0
      },
      "text/plain": [
       "Canvas(toolbar=Toolbar(toolitems=[('Home', 'Reset original view', 'home', 'home'), ('Back', 'Back to previous …"
      ]
     },
     "metadata": {},
     "output_type": "display_data"
    }
   ],
   "source": [
    "n = 10000\n",
    "x_init = np.array([0.3,0.5])\n",
    "x = x_init\n",
    "A = build_A()\n",
    "x_history = np.zeros((2,n))\n",
    "u_history = np.zeros((2,n))\n",
    "t_history = np.zeros((1,n))\n",
    "z_history = np.zeros((2,n))\n",
    "\n",
    "z = np.zeros((2,n))\n",
    "\n",
    "\n",
    "for i in range(n):\n",
    "    u = np.zeros((2,))\n",
    "    \n",
    "    x = A @ x + B @ u\n",
    "    \n",
    "    u_history[0:2,i] = u\n",
    "    x_history[0:2,i] = x\n",
    "    t_history[0,i] = dt*i\n",
    "    \n",
    "    z_history[0:2,i] = H @ x + generate_noise(R).reshape(2,)\n",
    "\n",
    "\n",
    "plt.plot(t_history[0,:], z_history[0,:])\n",
    "plt.plot(t_history[0,:], x_history[0,:])\n",
    "plt.show()\n",
    "\n"
   ]
  },
  {
   "cell_type": "markdown",
   "metadata": {},
   "source": [
    "## Filter"
   ]
  },
  {
   "cell_type": "code",
   "execution_count": 12,
   "metadata": {},
   "outputs": [
    {
     "data": {
      "application/vnd.jupyter.widget-view+json": {
       "model_id": "93e2a7697dc34a81a792052caab748ee",
       "version_major": 2,
       "version_minor": 0
      },
      "text/plain": [
       "Canvas(toolbar=Toolbar(toolitems=[('Home', 'Reset original view', 'home', 'home'), ('Back', 'Back to previous …"
      ]
     },
     "metadata": {},
     "output_type": "display_data"
    }
   ],
   "source": [
    "n = 10000\n",
    "\n",
    "P = np.eye(2)*0.01 # filter covariance\n",
    "\n",
    "x_hat = np.zeros((2,))\n",
    "\n",
    "x_hat_history = np.zeros((2,n))\n",
    "\n",
    "for i in range(n):\n",
    "    u = u_history[0:2,i]\n",
    "    z = z_history[0:2,i]\n",
    "    x_hat, P = predict(x_hat, A, u, B, P)\n",
    "     \n",
    "    x_hat, P = update(x_hat, z, H, P, R)\n",
    "    \n",
    "    x_hat_history[0:2,i] = x_hat\n",
    "    \n",
    "plt.figure()\n",
    "plt.plot(t_history[0,:], z_history[0,:], 'r')\n",
    "plt.plot(t_history[0,:], x_hat_history[0,:], 'b')\n",
    "plt.plot(t_history[0,:], x_history[0,:], 'g')\n",
    "plt.show()"
   ]
  }
 ],
 "metadata": {
  "kernelspec": {
   "display_name": "Python 3",
   "language": "python",
   "name": "python3"
  },
  "language_info": {
   "codemirror_mode": {
    "name": "ipython",
    "version": 3
   },
   "file_extension": ".py",
   "mimetype": "text/x-python",
   "name": "python",
   "nbconvert_exporter": "python",
   "pygments_lexer": "ipython3",
   "version": "3.6.9"
  }
 },
 "nbformat": 4,
 "nbformat_minor": 4
}
